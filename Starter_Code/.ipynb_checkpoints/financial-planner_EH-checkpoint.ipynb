{
 "cells": [
  {
   "cell_type": "markdown",
   "metadata": {},
   "source": [
    "# Unit 5 - Financial Planning\n"
   ]
  },
  {
   "cell_type": "code",
   "execution_count": 13,
   "metadata": {},
   "outputs": [],
   "source": [
    "# Initial imports\n",
    "import os\n",
    "import requests\n",
    "import pandas as pd\n",
    "from dotenv import load_dotenv\n",
    "import alpaca_trade_api as tradeapi\n",
    "from MCForecastTools import MCSimulation\n",
    "import json\n",
    "\n",
    "%matplotlib inline"
   ]
  },
  {
   "cell_type": "code",
   "execution_count": 56,
   "metadata": {},
   "outputs": [
    {
     "data": {
      "text/plain": [
       "True"
      ]
     },
     "execution_count": 56,
     "metadata": {},
     "output_type": "execute_result"
    }
   ],
   "source": [
    "# Load .env enviroment variables\n",
    "load_dotenv()"
   ]
  },
  {
   "cell_type": "markdown",
   "metadata": {},
   "source": [
    "## Part 1 - Personal Finance Planner"
   ]
  },
  {
   "cell_type": "markdown",
   "metadata": {},
   "source": [
    "### Collect Crypto Prices Using the `requests` Library"
   ]
  },
  {
   "cell_type": "code",
   "execution_count": 4,
   "metadata": {},
   "outputs": [],
   "source": [
    "# Set current amount of crypto assets\n",
    "my_btc = 1.2\n",
    "my_eth = 5.3"
   ]
  },
  {
   "cell_type": "code",
   "execution_count": 5,
   "metadata": {},
   "outputs": [],
   "source": [
    "# Crypto API URLs\n",
    "btc_url = \"https://api.alternative.me/v2/ticker/Bitcoin/?convert=CAD\"\n",
    "eth_url = \"https://api.alternative.me/v2/ticker/Ethereum/?convert=CAD\""
   ]
  },
  {
   "cell_type": "code",
   "execution_count": 52,
   "metadata": {},
   "outputs": [],
   "source": [
    "# Fetch current BTC price\n",
    "btc_url = btc_url + \"?format=json\"\n",
    "btc_response = requests.get(btc_url)\n",
    "btc_data = btc_response.json()\n",
    "btc_price = btc_data['data']['1']['quotes']['USD']['price']\n",
    "\n",
    "# Fetch current ETH price\n",
    "eth_url = eth_url + \"?format=json\"\n",
    "eth_response = requests.get(eth_url)\n",
    "eth_data = eth_response.json()\n",
    "eth_price = eth_data['data']['1027']['quotes']['USD']['price']\n",
    "\n",
    "# Compute current value of my crpto\n",
    "my_btc_value = btc_price * my_btc\n",
    "my_eth_value = etc_price * my_eth"
   ]
  },
  {
   "cell_type": "code",
   "execution_count": 53,
   "metadata": {},
   "outputs": [
    {
     "name": "stdout",
     "output_type": "stream",
     "text": [
      "The current value of your 1.2 BTC is $13742.12\n",
      "The current value of your 5.3 ETH is $1991.21\n"
     ]
    }
   ],
   "source": [
    "# Print current crypto wallet balance\n",
    "print(f\"The current value of your {my_btc} BTC is ${my_btc_value:0.2f}\")\n",
    "print(f\"The current value of your {my_eth} ETH is ${my_eth_value:0.2f}\")"
   ]
  },
  {
   "cell_type": "markdown",
   "metadata": {},
   "source": [
    "### Collect Investments Data Using Alpaca: `SPY` (stocks) and `AGG` (bonds)"
   ]
  },
  {
   "cell_type": "code",
   "execution_count": 68,
   "metadata": {},
   "outputs": [],
   "source": [
    "# Current amount of shares\n",
    "my_agg = 200\n",
    "my_spy = 50"
   ]
  },
  {
   "cell_type": "code",
   "execution_count": 57,
   "metadata": {},
   "outputs": [],
   "source": [
    "# Set Alpaca API key and secret\n",
    "alpaca_api_key = os.getenv(\"ALPACA_API_KEY\")\n",
    "alpaca_secret_key = os.getenv(\"ALPACA_SECRET_KEY\")\n",
    "\n",
    "# Create the Alpaca API object\n",
    "api = tradeapi.REST(\n",
    "    alpaca_api_key,\n",
    "    alpaca_secret_key,\n",
    "    api_version = \"v2\"\n",
    ")"
   ]
  },
  {
   "cell_type": "code",
   "execution_count": 60,
   "metadata": {},
   "outputs": [
    {
     "data": {
      "text/html": [
       "<div>\n",
       "<style scoped>\n",
       "    .dataframe tbody tr th:only-of-type {\n",
       "        vertical-align: middle;\n",
       "    }\n",
       "\n",
       "    .dataframe tbody tr th {\n",
       "        vertical-align: top;\n",
       "    }\n",
       "\n",
       "    .dataframe thead tr th {\n",
       "        text-align: left;\n",
       "    }\n",
       "</style>\n",
       "<table border=\"1\" class=\"dataframe\">\n",
       "  <thead>\n",
       "    <tr>\n",
       "      <th></th>\n",
       "      <th colspan=\"5\" halign=\"left\">AGG</th>\n",
       "      <th colspan=\"5\" halign=\"left\">SPY</th>\n",
       "    </tr>\n",
       "    <tr>\n",
       "      <th></th>\n",
       "      <th>open</th>\n",
       "      <th>high</th>\n",
       "      <th>low</th>\n",
       "      <th>close</th>\n",
       "      <th>volume</th>\n",
       "      <th>open</th>\n",
       "      <th>high</th>\n",
       "      <th>low</th>\n",
       "      <th>close</th>\n",
       "      <th>volume</th>\n",
       "    </tr>\n",
       "  </thead>\n",
       "  <tbody>\n",
       "    <tr>\n",
       "      <th>2020-10-16 00:00:00-04:00</th>\n",
       "      <td>117.99</td>\n",
       "      <td>118.0778</td>\n",
       "      <td>117.88</td>\n",
       "      <td>117.88</td>\n",
       "      <td>3589312</td>\n",
       "      <td>348.96</td>\n",
       "      <td>350.75</td>\n",
       "      <td>347.1</td>\n",
       "      <td>347.25</td>\n",
       "      <td>62467863</td>\n",
       "    </tr>\n",
       "  </tbody>\n",
       "</table>\n",
       "</div>"
      ],
      "text/plain": [
       "                              AGG                                        SPY  \\\n",
       "                             open      high     low   close   volume    open   \n",
       "2020-10-16 00:00:00-04:00  117.99  118.0778  117.88  117.88  3589312  348.96   \n",
       "\n",
       "                                                            \n",
       "                             high    low   close    volume  \n",
       "2020-10-16 00:00:00-04:00  350.75  347.1  347.25  62467863  "
      ]
     },
     "execution_count": 60,
     "metadata": {},
     "output_type": "execute_result"
    }
   ],
   "source": [
    "# Format current date as ISO format\n",
    "today = pd.Timestamp(\"2020-10-16\", tz=\"America/New_York\").isoformat()\n",
    "\n",
    "# Set the tickers\n",
    "tickers = [\"AGG\", \"SPY\"]\n",
    "\n",
    "# Set timeframe to '1D' for Alpaca API\n",
    "timeframe = \"1D\"\n",
    "\n",
    "# Get current closing prices for SPY and AGG\n",
    "df_prices = api.get_barset(\n",
    "    tickers,\n",
    "    timeframe,\n",
    "    start = today,\n",
    "    end = today\n",
    ").df\n",
    "\n",
    "# Preview DataFrame\n",
    "df_prices.head()"
   ]
  },
  {
   "cell_type": "code",
   "execution_count": 65,
   "metadata": {},
   "outputs": [],
   "source": [
    "# Pick AGG and SPY close prices\n",
    "agg_close_price = df_prices['AGG']['close'].item()\n",
    "spy_close_price = df_prices['SPY']['close'].item()"
   ]
  },
  {
   "cell_type": "code",
   "execution_count": 66,
   "metadata": {},
   "outputs": [
    {
     "name": "stdout",
     "output_type": "stream",
     "text": [
      "Current AGG closing price: $117.88\n",
      "Current SPY closing price: $347.25\n"
     ]
    }
   ],
   "source": [
    "# Print AGG and SPY close prices\n",
    "print(f\"Current AGG closing price: ${agg_close_price}\")\n",
    "print(f\"Current SPY closing price: ${spy_close_price}\")"
   ]
  },
  {
   "cell_type": "code",
   "execution_count": 69,
   "metadata": {},
   "outputs": [],
   "source": [
    "# Compute the current value of shares\n",
    "my_agg_value = agg_close_price * my_agg\n",
    "my_spy_value = spy_close_price * my_spy"
   ]
  },
  {
   "cell_type": "code",
   "execution_count": 70,
   "metadata": {},
   "outputs": [
    {
     "name": "stdout",
     "output_type": "stream",
     "text": [
      "The current value of your 50 SPY shares is $17362.50\n",
      "The current value of your 200 AGG shares is $23576.00\n"
     ]
    }
   ],
   "source": [
    "# Print current value of share\n",
    "print(f\"The current value of your {my_spy} SPY shares is ${my_spy_value:0.2f}\")\n",
    "print(f\"The current value of your {my_agg} AGG shares is ${my_agg_value:0.2f}\")"
   ]
  },
  {
   "cell_type": "markdown",
   "metadata": {},
   "source": [
    "### Savings Health Analysis"
   ]
  },
  {
   "cell_type": "code",
   "execution_count": 71,
   "metadata": {},
   "outputs": [],
   "source": [
    "# Set monthly household income\n",
    "monthly_income = 12000\n",
    "\n",
    "# Create savings DataFrame\n",
    "crypto_value = my_btc_value + my_eth_value\n",
    "stock_value = my_agg_value + my_spy_value\n",
    "assets = ['crypto','shares']\n",
    "df_savings = pd.DataFrame([crypto_value,stock_value],index=assets,columns=['amount'])"
   ]
  },
  {
   "cell_type": "code",
   "execution_count": 73,
   "metadata": {},
   "outputs": [
    {
     "data": {
      "text/html": [
       "<div>\n",
       "<style scoped>\n",
       "    .dataframe tbody tr th:only-of-type {\n",
       "        vertical-align: middle;\n",
       "    }\n",
       "\n",
       "    .dataframe tbody tr th {\n",
       "        vertical-align: top;\n",
       "    }\n",
       "\n",
       "    .dataframe thead th {\n",
       "        text-align: right;\n",
       "    }\n",
       "</style>\n",
       "<table border=\"1\" class=\"dataframe\">\n",
       "  <thead>\n",
       "    <tr style=\"text-align: right;\">\n",
       "      <th></th>\n",
       "      <th>amount</th>\n",
       "    </tr>\n",
       "  </thead>\n",
       "  <tbody>\n",
       "    <tr>\n",
       "      <th>crypto</th>\n",
       "      <td>15733.334</td>\n",
       "    </tr>\n",
       "    <tr>\n",
       "      <th>shares</th>\n",
       "      <td>40938.500</td>\n",
       "    </tr>\n",
       "  </tbody>\n",
       "</table>\n",
       "</div>"
      ],
      "text/plain": [
       "           amount\n",
       "crypto  15733.334\n",
       "shares  40938.500"
      ]
     },
     "metadata": {},
     "output_type": "display_data"
    }
   ],
   "source": [
    "# Display savings DataFrame\n",
    "display(df_savings)"
   ]
  },
  {
   "cell_type": "code",
   "execution_count": 74,
   "metadata": {},
   "outputs": [
    {
     "data": {
      "text/plain": [
       "<matplotlib.axes._subplots.AxesSubplot at 0x26f96a83288>"
      ]
     },
     "execution_count": 74,
     "metadata": {},
     "output_type": "execute_result"
    },
    {
     "data": {
      "image/png": "[encoded data removed]",
      "text/plain": [
       "<Figure size 432x288 with 1 Axes>"
      ]
     },
     "metadata": {},
     "output_type": "display_data"
    }
   ],
   "source": [
    "# Plot savings pie chart\n",
    "df_savings.plot.pie(y='amount')"
   ]
  },
  {
   "cell_type": "code",
   "execution_count": 79,
   "metadata": {},
   "outputs": [
    {
     "name": "stdout",
     "output_type": "stream",
     "text": [
      "Congratulations you have more than enough emergency funds! Please consider our premium investment products for your excess cash.\n"
     ]
    }
   ],
   "source": [
    "# Set ideal emergency fund\n",
    "emergency_fund = monthly_income * 3\n",
    "\n",
    "# Calculate total amount of savings\n",
    "savings = df_savings['amount'].sum()\n",
    "\n",
    "# Validate saving health\n",
    "if savings > emergency_fund:\n",
    "    print(\"Congratulations you have more than enough emergency funds! Please consider our premium investment products for your excess cash.\")\n",
    "elif savings == emergency_fund:\n",
    "    print(\"Congratulations you have enough savings for emergencies!\")\n",
    "else:\n",
    "    deficit = emergency_fund - savings\n",
    "    print(f\"You do not have enough savings. You will need ${deficit} to reach financial security\")"
   ]
  },
  {
   "cell_type": "markdown",
   "metadata": {},
   "source": [
    "## Part 2 - Retirement Planning\n",
    "\n",
    "### Monte Carlo Simulation"
   ]
  },
  {
   "cell_type": "code",
   "execution_count": 80,
   "metadata": {},
   "outputs": [],
   "source": [
    "# Set start and end dates of five years back from today.\n",
    "# Sample results may vary from the solution based on the time frame chosen\n",
    "start_date = pd.Timestamp('2015-08-07', tz='America/New_York').isoformat()\n",
    "end_date = pd.Timestamp('2020-08-07', tz='America/New_York').isoformat()"
   ]
  },
  {
   "cell_type": "code",
   "execution_count": 81,
   "metadata": {},
   "outputs": [
    {
     "data": {
      "text/html": [
       "<div>\n",
       "<style scoped>\n",
       "    .dataframe tbody tr th:only-of-type {\n",
       "        vertical-align: middle;\n",
       "    }\n",
       "\n",
       "    .dataframe tbody tr th {\n",
       "        vertical-align: top;\n",
       "    }\n",
       "\n",
       "    .dataframe thead tr th {\n",
       "        text-align: left;\n",
       "    }\n",
       "</style>\n",
       "<table border=\"1\" class=\"dataframe\">\n",
       "  <thead>\n",
       "    <tr>\n",
       "      <th></th>\n",
       "      <th colspan=\"5\" halign=\"left\">AGG</th>\n",
       "      <th colspan=\"5\" halign=\"left\">SPY</th>\n",
       "    </tr>\n",
       "    <tr>\n",
       "      <th></th>\n",
       "      <th>open</th>\n",
       "      <th>high</th>\n",
       "      <th>low</th>\n",
       "      <th>close</th>\n",
       "      <th>volume</th>\n",
       "      <th>open</th>\n",
       "      <th>high</th>\n",
       "      <th>low</th>\n",
       "      <th>close</th>\n",
       "      <th>volume</th>\n",
       "    </tr>\n",
       "  </thead>\n",
       "  <tbody>\n",
       "    <tr>\n",
       "      <th>2015-08-07 00:00:00-04:00</th>\n",
       "      <td>109.14</td>\n",
       "      <td>109.2750</td>\n",
       "      <td>109.035</td>\n",
       "      <td>109.21</td>\n",
       "      <td>2041167</td>\n",
       "      <td>208.16</td>\n",
       "      <td>208.34</td>\n",
       "      <td>206.87</td>\n",
       "      <td>207.93</td>\n",
       "      <td>87669782</td>\n",
       "    </tr>\n",
       "    <tr>\n",
       "      <th>2015-08-10 00:00:00-04:00</th>\n",
       "      <td>109.15</td>\n",
       "      <td>109.1700</td>\n",
       "      <td>108.920</td>\n",
       "      <td>109.06</td>\n",
       "      <td>1149778</td>\n",
       "      <td>209.28</td>\n",
       "      <td>210.67</td>\n",
       "      <td>209.28</td>\n",
       "      <td>210.58</td>\n",
       "      <td>66755890</td>\n",
       "    </tr>\n",
       "    <tr>\n",
       "      <th>2015-08-11 00:00:00-04:00</th>\n",
       "      <td>109.42</td>\n",
       "      <td>109.5765</td>\n",
       "      <td>109.284</td>\n",
       "      <td>109.42</td>\n",
       "      <td>1420907</td>\n",
       "      <td>208.98</td>\n",
       "      <td>209.47</td>\n",
       "      <td>207.76</td>\n",
       "      <td>208.63</td>\n",
       "      <td>88424557</td>\n",
       "    </tr>\n",
       "    <tr>\n",
       "      <th>2015-08-12 00:00:00-04:00</th>\n",
       "      <td>109.55</td>\n",
       "      <td>109.7100</td>\n",
       "      <td>109.350</td>\n",
       "      <td>109.36</td>\n",
       "      <td>1468979</td>\n",
       "      <td>207.11</td>\n",
       "      <td>209.14</td>\n",
       "      <td>205.36</td>\n",
       "      <td>208.89</td>\n",
       "      <td>136171450</td>\n",
       "    </tr>\n",
       "    <tr>\n",
       "      <th>2015-08-13 00:00:00-04:00</th>\n",
       "      <td>109.36</td>\n",
       "      <td>109.3651</td>\n",
       "      <td>109.110</td>\n",
       "      <td>109.15</td>\n",
       "      <td>1465173</td>\n",
       "      <td>208.73</td>\n",
       "      <td>209.55</td>\n",
       "      <td>208.01</td>\n",
       "      <td>208.63</td>\n",
       "      <td>77197796</td>\n",
       "    </tr>\n",
       "  </tbody>\n",
       "</table>\n",
       "</div>"
      ],
      "text/plain": [
       "                              AGG                                         SPY  \\\n",
       "                             open      high      low   close   volume    open   \n",
       "2015-08-07 00:00:00-04:00  109.14  109.2750  109.035  109.21  2041167  208.16   \n",
       "2015-08-10 00:00:00-04:00  109.15  109.1700  108.920  109.06  1149778  209.28   \n",
       "2015-08-11 00:00:00-04:00  109.42  109.5765  109.284  109.42  1420907  208.98   \n",
       "2015-08-12 00:00:00-04:00  109.55  109.7100  109.350  109.36  1468979  207.11   \n",
       "2015-08-13 00:00:00-04:00  109.36  109.3651  109.110  109.15  1465173  208.73   \n",
       "\n",
       "                                                              \n",
       "                             high     low   close     volume  \n",
       "2015-08-07 00:00:00-04:00  208.34  206.87  207.93   87669782  \n",
       "2015-08-10 00:00:00-04:00  210.67  209.28  210.58   66755890  \n",
       "2015-08-11 00:00:00-04:00  209.47  207.76  208.63   88424557  \n",
       "2015-08-12 00:00:00-04:00  209.14  205.36  208.89  136171450  \n",
       "2015-08-13 00:00:00-04:00  209.55  208.01  208.63   77197796  "
      ]
     },
     "execution_count": 81,
     "metadata": {},
     "output_type": "execute_result"
    }
   ],
   "source": [
    "# Get 5 years' worth of historical data for SPY and AGG\n",
    "df_stock_data = api.get_barset(\n",
    "    tickers,\n",
    "    timeframe,\n",
    "    start = start_date,\n",
    "    end = end_date\n",
    ").df\n",
    "\n",
    "# Display sample data\n",
    "df_stock_data.head()"
   ]
  },
  {
   "cell_type": "code",
   "execution_count": 91,
   "metadata": {},
   "outputs": [],
   "source": [
    "# Configuring a Monte Carlo simulation to forecast 30 years cumulative returns\n",
    "# Set number of simulations\n",
    "num_sims = 500\n",
    "\n",
    "MC_30_year = MCSimulation(\n",
    "    portfolio_data = df_stock_data,\n",
    "    weights = [.40,.60],\n",
    "    num_simulation = num_sims,\n",
    "    num_trading_days = 252*30\n",
    ")"
   ]
  },
  {
   "cell_type": "code",
   "execution_count": 92,
   "metadata": {},
   "outputs": [
    {
     "data": {
      "text/html": [
       "<div>\n",
       "<style scoped>\n",
       "    .dataframe tbody tr th:only-of-type {\n",
       "        vertical-align: middle;\n",
       "    }\n",
       "\n",
       "    .dataframe tbody tr th {\n",
       "        vertical-align: top;\n",
       "    }\n",
       "\n",
       "    .dataframe thead tr th {\n",
       "        text-align: left;\n",
       "    }\n",
       "</style>\n",
       "<table border=\"1\" class=\"dataframe\">\n",
       "  <thead>\n",
       "    <tr>\n",
       "      <th></th>\n",
       "      <th colspan=\"6\" halign=\"left\">AGG</th>\n",
       "      <th colspan=\"6\" halign=\"left\">SPY</th>\n",
       "    </tr>\n",
       "    <tr>\n",
       "      <th></th>\n",
       "      <th>open</th>\n",
       "      <th>high</th>\n",
       "      <th>low</th>\n",
       "      <th>close</th>\n",
       "      <th>volume</th>\n",
       "      <th>daily_return</th>\n",
       "      <th>open</th>\n",
       "      <th>high</th>\n",
       "      <th>low</th>\n",
       "      <th>close</th>\n",
       "      <th>volume</th>\n",
       "      <th>daily_return</th>\n",
       "    </tr>\n",
       "  </thead>\n",
       "  <tbody>\n",
       "    <tr>\n",
       "      <th>2015-08-07 00:00:00-04:00</th>\n",
       "      <td>109.14</td>\n",
       "      <td>109.2750</td>\n",
       "      <td>109.035</td>\n",
       "      <td>109.21</td>\n",
       "      <td>2041167</td>\n",
       "      <td>NaN</td>\n",
       "      <td>208.16</td>\n",
       "      <td>208.34</td>\n",
       "      <td>206.87</td>\n",
       "      <td>207.93</td>\n",
       "      <td>87669782</td>\n",
       "      <td>NaN</td>\n",
       "    </tr>\n",
       "    <tr>\n",
       "      <th>2015-08-10 00:00:00-04:00</th>\n",
       "      <td>109.15</td>\n",
       "      <td>109.1700</td>\n",
       "      <td>108.920</td>\n",
       "      <td>109.06</td>\n",
       "      <td>1149778</td>\n",
       "      <td>-0.001374</td>\n",
       "      <td>209.28</td>\n",
       "      <td>210.67</td>\n",
       "      <td>209.28</td>\n",
       "      <td>210.58</td>\n",
       "      <td>66755890</td>\n",
       "      <td>0.012745</td>\n",
       "    </tr>\n",
       "    <tr>\n",
       "      <th>2015-08-11 00:00:00-04:00</th>\n",
       "      <td>109.42</td>\n",
       "      <td>109.5765</td>\n",
       "      <td>109.284</td>\n",
       "      <td>109.42</td>\n",
       "      <td>1420907</td>\n",
       "      <td>0.003301</td>\n",
       "      <td>208.98</td>\n",
       "      <td>209.47</td>\n",
       "      <td>207.76</td>\n",
       "      <td>208.63</td>\n",
       "      <td>88424557</td>\n",
       "      <td>-0.009260</td>\n",
       "    </tr>\n",
       "    <tr>\n",
       "      <th>2015-08-12 00:00:00-04:00</th>\n",
       "      <td>109.55</td>\n",
       "      <td>109.7100</td>\n",
       "      <td>109.350</td>\n",
       "      <td>109.36</td>\n",
       "      <td>1468979</td>\n",
       "      <td>-0.000548</td>\n",
       "      <td>207.11</td>\n",
       "      <td>209.14</td>\n",
       "      <td>205.36</td>\n",
       "      <td>208.89</td>\n",
       "      <td>136171450</td>\n",
       "      <td>0.001246</td>\n",
       "    </tr>\n",
       "    <tr>\n",
       "      <th>2015-08-13 00:00:00-04:00</th>\n",
       "      <td>109.36</td>\n",
       "      <td>109.3651</td>\n",
       "      <td>109.110</td>\n",
       "      <td>109.15</td>\n",
       "      <td>1465173</td>\n",
       "      <td>-0.001920</td>\n",
       "      <td>208.73</td>\n",
       "      <td>209.55</td>\n",
       "      <td>208.01</td>\n",
       "      <td>208.63</td>\n",
       "      <td>77197796</td>\n",
       "      <td>-0.001245</td>\n",
       "    </tr>\n",
       "  </tbody>\n",
       "</table>\n",
       "</div>"
      ],
      "text/plain": [
       "                              AGG                                      \\\n",
       "                             open      high      low   close   volume   \n",
       "2015-08-07 00:00:00-04:00  109.14  109.2750  109.035  109.21  2041167   \n",
       "2015-08-10 00:00:00-04:00  109.15  109.1700  108.920  109.06  1149778   \n",
       "2015-08-11 00:00:00-04:00  109.42  109.5765  109.284  109.42  1420907   \n",
       "2015-08-12 00:00:00-04:00  109.55  109.7100  109.350  109.36  1468979   \n",
       "2015-08-13 00:00:00-04:00  109.36  109.3651  109.110  109.15  1465173   \n",
       "\n",
       "                                           SPY                          \\\n",
       "                          daily_return    open    high     low   close   \n",
       "2015-08-07 00:00:00-04:00          NaN  208.16  208.34  206.87  207.93   \n",
       "2015-08-10 00:00:00-04:00    -0.001374  209.28  210.67  209.28  210.58   \n",
       "2015-08-11 00:00:00-04:00     0.003301  208.98  209.47  207.76  208.63   \n",
       "2015-08-12 00:00:00-04:00    -0.000548  207.11  209.14  205.36  208.89   \n",
       "2015-08-13 00:00:00-04:00    -0.001920  208.73  209.55  208.01  208.63   \n",
       "\n",
       "                                                   \n",
       "                              volume daily_return  \n",
       "2015-08-07 00:00:00-04:00   87669782          NaN  \n",
       "2015-08-10 00:00:00-04:00   66755890     0.012745  \n",
       "2015-08-11 00:00:00-04:00   88424557    -0.009260  \n",
       "2015-08-12 00:00:00-04:00  136171450     0.001246  \n",
       "2015-08-13 00:00:00-04:00   77197796    -0.001245  "
      ]
     },
     "execution_count": 92,
     "metadata": {},
     "output_type": "execute_result"
    }
   ],
   "source": [
    "# Printing the simulation input data\n",
    "MC_30_year.portfolio_data.head()"
   ]
  },
  {
   "cell_type": "code",
   "execution_count": 93,
   "metadata": {},
   "outputs": [
    {
     "name": "stdout",
     "output_type": "stream",
     "text": [
      "Running Monte Carlo simulation number 0.\n",
      "Running Monte Carlo simulation number 10.\n",
      "Running Monte Carlo simulation number 20.\n",
      "Running Monte Carlo simulation number 30.\n",
      "Running Monte Carlo simulation number 40.\n",
      "Running Monte Carlo simulation number 50.\n",
      "Running Monte Carlo simulation number 60.\n",
      "Running Monte Carlo simulation number 70.\n",
      "Running Monte Carlo simulation number 80.\n",
      "Running Monte Carlo simulation number 90.\n",
      "Running Monte Carlo simulation number 100.\n",
      "Running Monte Carlo simulation number 110.\n",
      "Running Monte Carlo simulation number 120.\n",
      "Running Monte Carlo simulation number 130.\n",
      "Running Monte Carlo simulation number 140.\n",
      "Running Monte Carlo simulation number 150.\n",
      "Running Monte Carlo simulation number 160.\n",
      "Running Monte Carlo simulation number 170.\n",
      "Running Monte Carlo simulation number 180.\n",
      "Running Monte Carlo simulation number 190.\n",
      "Running Monte Carlo simulation number 200.\n",
      "Running Monte Carlo simulation number 210.\n",
      "Running Monte Carlo simulation number 220.\n",
      "Running Monte Carlo simulation number 230.\n",
      "Running Monte Carlo simulation number 240.\n",
      "Running Monte Carlo simulation number 250.\n",
      "Running Monte Carlo simulation number 260.\n",
      "Running Monte Carlo simulation number 270.\n",
      "Running Monte Carlo simulation number 280.\n",
      "Running Monte Carlo simulation number 290.\n",
      "Running Monte Carlo simulation number 300.\n",
      "Running Monte Carlo simulation number 310.\n",
      "Running Monte Carlo simulation number 320.\n",
      "Running Monte Carlo simulation number 330.\n",
      "Running Monte Carlo simulation number 340.\n",
      "Running Monte Carlo simulation number 350.\n",
      "Running Monte Carlo simulation number 360.\n",
      "Running Monte Carlo simulation number 370.\n",
      "Running Monte Carlo simulation number 380.\n",
      "Running Monte Carlo simulation number 390.\n",
      "Running Monte Carlo simulation number 400.\n",
      "Running Monte Carlo simulation number 410.\n",
      "Running Monte Carlo simulation number 420.\n",
      "Running Monte Carlo simulation number 430.\n",
      "Running Monte Carlo simulation number 440.\n",
      "Running Monte Carlo simulation number 450.\n",
      "Running Monte Carlo simulation number 460.\n",
      "Running Monte Carlo simulation number 470.\n",
      "Running Monte Carlo simulation number 480.\n",
      "Running Monte Carlo simulation number 490.\n"
     ]
    },
    {
     "data": {
      "text/html": [
       "<div>\n",
       "<style scoped>\n",
       "    .dataframe tbody tr th:only-of-type {\n",
       "        vertical-align: middle;\n",
       "    }\n",
       "\n",
       "    .dataframe tbody tr th {\n",
       "        vertical-align: top;\n",
       "    }\n",
       "\n",
       "    .dataframe thead th {\n",
       "        text-align: right;\n",
       "    }\n",
       "</style>\n",
       "<table border=\"1\" class=\"dataframe\">\n",
       "  <thead>\n",
       "    <tr style=\"text-align: right;\">\n",
       "      <th></th>\n",
       "      <th>0</th>\n",
       "      <th>1</th>\n",
       "      <th>2</th>\n",
       "      <th>3</th>\n",
       "      <th>4</th>\n",
       "      <th>5</th>\n",
       "      <th>6</th>\n",
       "      <th>7</th>\n",
       "      <th>8</th>\n",
       "      <th>9</th>\n",
       "      <th>...</th>\n",
       "      <th>490</th>\n",
       "      <th>491</th>\n",
       "      <th>492</th>\n",
       "      <th>493</th>\n",
       "      <th>494</th>\n",
       "      <th>495</th>\n",
       "      <th>496</th>\n",
       "      <th>497</th>\n",
       "      <th>498</th>\n",
       "      <th>499</th>\n",
       "    </tr>\n",
       "  </thead>\n",
       "  <tbody>\n",
       "    <tr>\n",
       "      <th>0</th>\n",
       "      <td>1.000000</td>\n",
       "      <td>1.000000</td>\n",
       "      <td>1.000000</td>\n",
       "      <td>1.000000</td>\n",
       "      <td>1.000000</td>\n",
       "      <td>1.000000</td>\n",
       "      <td>1.000000</td>\n",
       "      <td>1.000000</td>\n",
       "      <td>1.000000</td>\n",
       "      <td>1.000000</td>\n",
       "      <td>...</td>\n",
       "      <td>1.000000</td>\n",
       "      <td>1.000000</td>\n",
       "      <td>1.000000</td>\n",
       "      <td>1.000000</td>\n",
       "      <td>1.000000</td>\n",
       "      <td>1.000000</td>\n",
       "      <td>1.000000</td>\n",
       "      <td>1.000000</td>\n",
       "      <td>1.000000</td>\n",
       "      <td>1.000000</td>\n",
       "    </tr>\n",
       "    <tr>\n",
       "      <th>1</th>\n",
       "      <td>1.000397</td>\n",
       "      <td>1.005454</td>\n",
       "      <td>1.000055</td>\n",
       "      <td>0.993261</td>\n",
       "      <td>1.006287</td>\n",
       "      <td>0.999051</td>\n",
       "      <td>1.002678</td>\n",
       "      <td>1.001271</td>\n",
       "      <td>1.004964</td>\n",
       "      <td>0.998788</td>\n",
       "      <td>...</td>\n",
       "      <td>1.001635</td>\n",
       "      <td>1.002664</td>\n",
       "      <td>1.000110</td>\n",
       "      <td>1.001295</td>\n",
       "      <td>0.993593</td>\n",
       "      <td>0.998222</td>\n",
       "      <td>1.005645</td>\n",
       "      <td>0.989119</td>\n",
       "      <td>0.996440</td>\n",
       "      <td>1.000543</td>\n",
       "    </tr>\n",
       "    <tr>\n",
       "      <th>2</th>\n",
       "      <td>1.005759</td>\n",
       "      <td>1.009481</td>\n",
       "      <td>0.997076</td>\n",
       "      <td>0.997500</td>\n",
       "      <td>1.006584</td>\n",
       "      <td>1.008239</td>\n",
       "      <td>1.010880</td>\n",
       "      <td>0.996529</td>\n",
       "      <td>1.000204</td>\n",
       "      <td>1.003513</td>\n",
       "      <td>...</td>\n",
       "      <td>1.006347</td>\n",
       "      <td>0.998572</td>\n",
       "      <td>0.989291</td>\n",
       "      <td>0.982615</td>\n",
       "      <td>0.988806</td>\n",
       "      <td>0.995620</td>\n",
       "      <td>1.007411</td>\n",
       "      <td>0.987665</td>\n",
       "      <td>0.989204</td>\n",
       "      <td>1.001784</td>\n",
       "    </tr>\n",
       "    <tr>\n",
       "      <th>3</th>\n",
       "      <td>1.008147</td>\n",
       "      <td>1.000267</td>\n",
       "      <td>1.004857</td>\n",
       "      <td>0.980255</td>\n",
       "      <td>1.005153</td>\n",
       "      <td>1.009996</td>\n",
       "      <td>0.990339</td>\n",
       "      <td>0.988644</td>\n",
       "      <td>1.007632</td>\n",
       "      <td>1.009388</td>\n",
       "      <td>...</td>\n",
       "      <td>1.007665</td>\n",
       "      <td>0.983625</td>\n",
       "      <td>0.996041</td>\n",
       "      <td>0.975842</td>\n",
       "      <td>0.994670</td>\n",
       "      <td>1.000777</td>\n",
       "      <td>1.006913</td>\n",
       "      <td>0.992289</td>\n",
       "      <td>0.983634</td>\n",
       "      <td>1.001680</td>\n",
       "    </tr>\n",
       "    <tr>\n",
       "      <th>4</th>\n",
       "      <td>1.012606</td>\n",
       "      <td>0.993520</td>\n",
       "      <td>0.998094</td>\n",
       "      <td>0.982443</td>\n",
       "      <td>1.000382</td>\n",
       "      <td>1.018309</td>\n",
       "      <td>0.992785</td>\n",
       "      <td>0.994985</td>\n",
       "      <td>1.005609</td>\n",
       "      <td>1.007055</td>\n",
       "      <td>...</td>\n",
       "      <td>1.007379</td>\n",
       "      <td>0.977818</td>\n",
       "      <td>0.999187</td>\n",
       "      <td>0.975999</td>\n",
       "      <td>0.986016</td>\n",
       "      <td>1.005775</td>\n",
       "      <td>1.008164</td>\n",
       "      <td>1.000978</td>\n",
       "      <td>0.984500</td>\n",
       "      <td>1.012893</td>\n",
       "    </tr>\n",
       "    <tr>\n",
       "      <th>...</th>\n",
       "      <td>...</td>\n",
       "      <td>...</td>\n",
       "      <td>...</td>\n",
       "      <td>...</td>\n",
       "      <td>...</td>\n",
       "      <td>...</td>\n",
       "      <td>...</td>\n",
       "      <td>...</td>\n",
       "      <td>...</td>\n",
       "      <td>...</td>\n",
       "      <td>...</td>\n",
       "      <td>...</td>\n",
       "      <td>...</td>\n",
       "      <td>...</td>\n",
       "      <td>...</td>\n",
       "      <td>...</td>\n",
       "      <td>...</td>\n",
       "      <td>...</td>\n",
       "      <td>...</td>\n",
       "      <td>...</td>\n",
       "      <td>...</td>\n",
       "    </tr>\n",
       "    <tr>\n",
       "      <th>7556</th>\n",
       "      <td>31.343668</td>\n",
       "      <td>9.173243</td>\n",
       "      <td>17.300594</td>\n",
       "      <td>6.688113</td>\n",
       "      <td>8.741620</td>\n",
       "      <td>1.595123</td>\n",
       "      <td>8.906607</td>\n",
       "      <td>14.164632</td>\n",
       "      <td>12.858080</td>\n",
       "      <td>5.466758</td>\n",
       "      <td>...</td>\n",
       "      <td>5.679406</td>\n",
       "      <td>4.314894</td>\n",
       "      <td>3.376312</td>\n",
       "      <td>5.550468</td>\n",
       "      <td>9.983102</td>\n",
       "      <td>3.829100</td>\n",
       "      <td>7.627713</td>\n",
       "      <td>15.501074</td>\n",
       "      <td>9.621297</td>\n",
       "      <td>3.966347</td>\n",
       "    </tr>\n",
       "    <tr>\n",
       "      <th>7557</th>\n",
       "      <td>31.316511</td>\n",
       "      <td>9.116768</td>\n",
       "      <td>17.345569</td>\n",
       "      <td>6.692969</td>\n",
       "      <td>8.717232</td>\n",
       "      <td>1.584120</td>\n",
       "      <td>8.922011</td>\n",
       "      <td>14.156866</td>\n",
       "      <td>12.960248</td>\n",
       "      <td>5.456486</td>\n",
       "      <td>...</td>\n",
       "      <td>5.686982</td>\n",
       "      <td>4.363524</td>\n",
       "      <td>3.382242</td>\n",
       "      <td>5.562403</td>\n",
       "      <td>9.921139</td>\n",
       "      <td>3.841831</td>\n",
       "      <td>7.581410</td>\n",
       "      <td>15.602619</td>\n",
       "      <td>9.733650</td>\n",
       "      <td>3.996994</td>\n",
       "    </tr>\n",
       "    <tr>\n",
       "      <th>7558</th>\n",
       "      <td>31.530926</td>\n",
       "      <td>9.139660</td>\n",
       "      <td>17.312908</td>\n",
       "      <td>6.657414</td>\n",
       "      <td>8.762566</td>\n",
       "      <td>1.575460</td>\n",
       "      <td>8.927208</td>\n",
       "      <td>14.092877</td>\n",
       "      <td>12.856677</td>\n",
       "      <td>5.450513</td>\n",
       "      <td>...</td>\n",
       "      <td>5.702093</td>\n",
       "      <td>4.371521</td>\n",
       "      <td>3.382520</td>\n",
       "      <td>5.483715</td>\n",
       "      <td>10.012910</td>\n",
       "      <td>3.891596</td>\n",
       "      <td>7.652945</td>\n",
       "      <td>15.660271</td>\n",
       "      <td>9.697226</td>\n",
       "      <td>3.954644</td>\n",
       "    </tr>\n",
       "    <tr>\n",
       "      <th>7559</th>\n",
       "      <td>31.556959</td>\n",
       "      <td>9.024146</td>\n",
       "      <td>17.236315</td>\n",
       "      <td>6.718364</td>\n",
       "      <td>8.802303</td>\n",
       "      <td>1.578965</td>\n",
       "      <td>8.751600</td>\n",
       "      <td>14.138179</td>\n",
       "      <td>12.818422</td>\n",
       "      <td>5.415074</td>\n",
       "      <td>...</td>\n",
       "      <td>5.691578</td>\n",
       "      <td>4.404537</td>\n",
       "      <td>3.334241</td>\n",
       "      <td>5.530023</td>\n",
       "      <td>10.073528</td>\n",
       "      <td>3.870550</td>\n",
       "      <td>7.654165</td>\n",
       "      <td>15.741849</td>\n",
       "      <td>9.722770</td>\n",
       "      <td>3.952540</td>\n",
       "    </tr>\n",
       "    <tr>\n",
       "      <th>7560</th>\n",
       "      <td>31.574190</td>\n",
       "      <td>8.959472</td>\n",
       "      <td>16.924759</td>\n",
       "      <td>6.759351</td>\n",
       "      <td>8.797502</td>\n",
       "      <td>1.595104</td>\n",
       "      <td>8.809934</td>\n",
       "      <td>14.121755</td>\n",
       "      <td>12.930806</td>\n",
       "      <td>5.402322</td>\n",
       "      <td>...</td>\n",
       "      <td>5.689280</td>\n",
       "      <td>4.442860</td>\n",
       "      <td>3.338893</td>\n",
       "      <td>5.596137</td>\n",
       "      <td>10.042964</td>\n",
       "      <td>3.912156</td>\n",
       "      <td>7.663791</td>\n",
       "      <td>15.838273</td>\n",
       "      <td>9.649966</td>\n",
       "      <td>3.978584</td>\n",
       "    </tr>\n",
       "  </tbody>\n",
       "</table>\n",
       "<p>7561 rows × 500 columns</p>\n",
       "</div>"
      ],
      "text/plain": [
       "            0         1          2         3         4         5         6    \\\n",
       "0      1.000000  1.000000   1.000000  1.000000  1.000000  1.000000  1.000000   \n",
       "1      1.000397  1.005454   1.000055  0.993261  1.006287  0.999051  1.002678   \n",
       "2      1.005759  1.009481   0.997076  0.997500  1.006584  1.008239  1.010880   \n",
       "3      1.008147  1.000267   1.004857  0.980255  1.005153  1.009996  0.990339   \n",
       "4      1.012606  0.993520   0.998094  0.982443  1.000382  1.018309  0.992785   \n",
       "...         ...       ...        ...       ...       ...       ...       ...   \n",
       "7556  31.343668  9.173243  17.300594  6.688113  8.741620  1.595123  8.906607   \n",
       "7557  31.316511  9.116768  17.345569  6.692969  8.717232  1.584120  8.922011   \n",
       "7558  31.530926  9.139660  17.312908  6.657414  8.762566  1.575460  8.927208   \n",
       "7559  31.556959  9.024146  17.236315  6.718364  8.802303  1.578965  8.751600   \n",
       "7560  31.574190  8.959472  16.924759  6.759351  8.797502  1.595104  8.809934   \n",
       "\n",
       "            7          8         9    ...       490       491       492  \\\n",
       "0      1.000000   1.000000  1.000000  ...  1.000000  1.000000  1.000000   \n",
       "1      1.001271   1.004964  0.998788  ...  1.001635  1.002664  1.000110   \n",
       "2      0.996529   1.000204  1.003513  ...  1.006347  0.998572  0.989291   \n",
       "3      0.988644   1.007632  1.009388  ...  1.007665  0.983625  0.996041   \n",
       "4      0.994985   1.005609  1.007055  ...  1.007379  0.977818  0.999187   \n",
       "...         ...        ...       ...  ...       ...       ...       ...   \n",
       "7556  14.164632  12.858080  5.466758  ...  5.679406  4.314894  3.376312   \n",
       "7557  14.156866  12.960248  5.456486  ...  5.686982  4.363524  3.382242   \n",
       "7558  14.092877  12.856677  5.450513  ...  5.702093  4.371521  3.382520   \n",
       "7559  14.138179  12.818422  5.415074  ...  5.691578  4.404537  3.334241   \n",
       "7560  14.121755  12.930806  5.402322  ...  5.689280  4.442860  3.338893   \n",
       "\n",
       "           493        494       495       496        497       498       499  \n",
       "0     1.000000   1.000000  1.000000  1.000000   1.000000  1.000000  1.000000  \n",
       "1     1.001295   0.993593  0.998222  1.005645   0.989119  0.996440  1.000543  \n",
       "2     0.982615   0.988806  0.995620  1.007411   0.987665  0.989204  1.001784  \n",
       "3     0.975842   0.994670  1.000777  1.006913   0.992289  0.983634  1.001680  \n",
       "4     0.975999   0.986016  1.005775  1.008164   1.000978  0.984500  1.012893  \n",
       "...        ...        ...       ...       ...        ...       ...       ...  \n",
       "7556  5.550468   9.983102  3.829100  7.627713  15.501074  9.621297  3.966347  \n",
       "7557  5.562403   9.921139  3.841831  7.581410  15.602619  9.733650  3.996994  \n",
       "7558  5.483715  10.012910  3.891596  7.652945  15.660271  9.697226  3.954644  \n",
       "7559  5.530023  10.073528  3.870550  7.654165  15.741849  9.722770  3.952540  \n",
       "7560  5.596137  10.042964  3.912156  7.663791  15.838273  9.649966  3.978584  \n",
       "\n",
       "[7561 rows x 500 columns]"
      ]
     },
     "execution_count": 93,
     "metadata": {},
     "output_type": "execute_result"
    }
   ],
   "source": [
    "# Running a Monte Carlo simulation to forecast 30 years cumulative returns\n",
    "MC_30_year.calc_cumulative_return()"
   ]
  },
  {
   "cell_type": "code",
   "execution_count": 94,
   "metadata": {},
   "outputs": [
    {
     "data": {
      "text/plain": [
       "<matplotlib.axes._subplots.AxesSubplot at 0x26f972d4d48>"
      ]
     },
     "execution_count": 94,
     "metadata": {},
     "output_type": "execute_result"
    },
    {
     "data": {
      "image/png": "[encoded data removed]",
      "text/plain": [
       "<Figure size 432x288 with 1 Axes>"
      ]
     },
     "metadata": {
      "needs_background": "light"
     },
     "output_type": "display_data"
    }
   ],
   "source": [
    "# Plot simulation outcomes\n",
    "MC_30_year.plot_simulation()"
   ]
  },
  {
   "cell_type": "code",
   "execution_count": 95,
   "metadata": {},
   "outputs": [
    {
     "data": {
      "text/plain": [
       "<matplotlib.axes._subplots.AxesSubplot at 0x26f9d69a7c8>"
      ]
     },
     "execution_count": 95,
     "metadata": {},
     "output_type": "execute_result"
    },
    {
     "data": {
      "image/png": "[encoded data removed]",
      "text/plain": [
       "<Figure size 432x288 with 1 Axes>"
      ]
     },
     "metadata": {
      "needs_background": "light"
     },
     "output_type": "display_data"
    }
   ],
   "source": [
    "# Plot probability distribution and confidence intervals\n",
    "MC_30_year.plot_distribution()"
   ]
  },
  {
   "cell_type": "markdown",
   "metadata": {},
   "source": [
    "### Retirement Analysis"
   ]
  },
  {
   "cell_type": "code",
   "execution_count": 96,
   "metadata": {},
   "outputs": [
    {
     "name": "stdout",
     "output_type": "stream",
     "text": [
      "count           500.000000\n",
      "mean             10.247858\n",
      "std               7.235573\n",
      "min               1.030265\n",
      "25%               5.405946\n",
      "50%               8.079910\n",
      "75%              13.092502\n",
      "max              51.427947\n",
      "95% CI Lower      2.715599\n",
      "95% CI Upper     28.279014\n",
      "Name: 7560, dtype: float64\n"
     ]
    }
   ],
   "source": [
    "# Fetch summary statistics from the Monte Carlo simulation results\n",
    "tbl = MC_30_year.summarize_cumulative_return()\n",
    "\n",
    "# Print summary statistics\n",
    "print(tbl)"
   ]
  },
  {
   "cell_type": "markdown",
   "metadata": {},
   "source": [
    "### Calculate the expected portfolio return at the 95% lower and upper confidence intervals based on a `$20,000` initial investment."
   ]
  },
  {
   "cell_type": "code",
   "execution_count": 97,
   "metadata": {},
   "outputs": [
    {
     "name": "stdout",
     "output_type": "stream",
     "text": [
      "There is a 95% chance that an initial investment of $20000 in the portfolio over the next 30 years will end within in the range of $54311.97 and $565580.29\n"
     ]
    }
   ],
   "source": [
    "# Set initial investment\n",
    "initial_investment = 20000\n",
    "\n",
    "# Use the lower and upper `95%` confidence intervals to calculate the range of the possible outcomes of our $20,000\n",
    "ci_lower = round(tbl[8]*initial_investment,2)\n",
    "ci_upper = round(tbl[9]*initial_investment,2)\n",
    "\n",
    "# Print results\n",
    "print(f\"There is a 95% chance that an initial investment of ${initial_investment} in the portfolio\"\n",
    "      f\" over the next 30 years will end within in the range of\"\n",
    "      f\" ${ci_lower} and ${ci_upper}\")"
   ]
  },
  {
   "cell_type": "markdown",
   "metadata": {},
   "source": [
    "### Calculate the expected portfolio return at the `95%` lower and upper confidence intervals based on a `50%` increase in the initial investment."
   ]
  },
  {
   "cell_type": "code",
   "execution_count": 98,
   "metadata": {},
   "outputs": [
    {
     "name": "stdout",
     "output_type": "stream",
     "text": [
      "There is a 95% chance that an initial investment of $30000.0 in the portfolio over the next 30 years will end within in the range of $81467.96 and $848370.43\n"
     ]
    }
   ],
   "source": [
    "# Set initial investment\n",
    "initial_investment = 20000 * 1.5\n",
    "\n",
    "# Use the lower and upper `95%` confidence intervals to calculate the range of the possible outcomes of our $30,000\n",
    "ci_lower = round(tbl[8]*initial_investment,2)\n",
    "ci_upper = round(tbl[9]*initial_investment,2)\n",
    "\n",
    "# Print results\n",
    "print(f\"There is a 95% chance that an initial investment of ${initial_investment} in the portfolio\"\n",
    "      f\" over the next 30 years will end within in the range of\"\n",
    "      f\" ${ci_lower} and ${ci_upper}\")"
   ]
  },
  {
   "cell_type": "markdown",
   "metadata": {},
   "source": [
    "## Optional Challenge - Early Retirement\n",
    "\n",
    "\n",
    "### Five Years Retirement Option"
   ]
  },
  {
   "cell_type": "code",
   "execution_count": 112,
   "metadata": {},
   "outputs": [],
   "source": [
    "# Configuring a Monte Carlo simulation to forecast 5 years cumulative returns\n",
    "num_sims = 10\n",
    "\n",
    "MC_5_year = MCSimulation(\n",
    "    portfolio_data = df_stock_data,\n",
    "    weights = [.05,.95],\n",
    "    num_simulation = num_sims,\n",
    "    num_trading_days = 252*5\n",
    ")"
   ]
  },
  {
   "cell_type": "code",
   "execution_count": 113,
   "metadata": {},
   "outputs": [
    {
     "name": "stdout",
     "output_type": "stream",
     "text": [
      "Running Monte Carlo simulation number 0.\n"
     ]
    },
    {
     "data": {
      "text/html": [
       "<div>\n",
       "<style scoped>\n",
       "    .dataframe tbody tr th:only-of-type {\n",
       "        vertical-align: middle;\n",
       "    }\n",
       "\n",
       "    .dataframe tbody tr th {\n",
       "        vertical-align: top;\n",
       "    }\n",
       "\n",
       "    .dataframe thead th {\n",
       "        text-align: right;\n",
       "    }\n",
       "</style>\n",
       "<table border=\"1\" class=\"dataframe\">\n",
       "  <thead>\n",
       "    <tr style=\"text-align: right;\">\n",
       "      <th></th>\n",
       "      <th>0</th>\n",
       "      <th>1</th>\n",
       "      <th>2</th>\n",
       "      <th>3</th>\n",
       "      <th>4</th>\n",
       "      <th>5</th>\n",
       "      <th>6</th>\n",
       "      <th>7</th>\n",
       "      <th>8</th>\n",
       "      <th>9</th>\n",
       "    </tr>\n",
       "  </thead>\n",
       "  <tbody>\n",
       "    <tr>\n",
       "      <th>0</th>\n",
       "      <td>1.000000</td>\n",
       "      <td>1.000000</td>\n",
       "      <td>1.000000</td>\n",
       "      <td>1.000000</td>\n",
       "      <td>1.000000</td>\n",
       "      <td>1.000000</td>\n",
       "      <td>1.000000</td>\n",
       "      <td>1.000000</td>\n",
       "      <td>1.000000</td>\n",
       "      <td>1.000000</td>\n",
       "    </tr>\n",
       "    <tr>\n",
       "      <th>1</th>\n",
       "      <td>0.993001</td>\n",
       "      <td>1.001861</td>\n",
       "      <td>1.015790</td>\n",
       "      <td>1.017297</td>\n",
       "      <td>1.023858</td>\n",
       "      <td>0.985531</td>\n",
       "      <td>1.008389</td>\n",
       "      <td>1.020919</td>\n",
       "      <td>1.008302</td>\n",
       "      <td>1.006853</td>\n",
       "    </tr>\n",
       "    <tr>\n",
       "      <th>2</th>\n",
       "      <td>1.003941</td>\n",
       "      <td>1.003925</td>\n",
       "      <td>1.023958</td>\n",
       "      <td>1.009686</td>\n",
       "      <td>1.013852</td>\n",
       "      <td>1.005077</td>\n",
       "      <td>1.020456</td>\n",
       "      <td>1.008471</td>\n",
       "      <td>1.006738</td>\n",
       "      <td>1.005663</td>\n",
       "    </tr>\n",
       "    <tr>\n",
       "      <th>3</th>\n",
       "      <td>1.005201</td>\n",
       "      <td>1.005014</td>\n",
       "      <td>1.017321</td>\n",
       "      <td>1.002698</td>\n",
       "      <td>1.006390</td>\n",
       "      <td>1.001224</td>\n",
       "      <td>1.022998</td>\n",
       "      <td>0.990444</td>\n",
       "      <td>1.022664</td>\n",
       "      <td>0.989340</td>\n",
       "    </tr>\n",
       "    <tr>\n",
       "      <th>4</th>\n",
       "      <td>1.009441</td>\n",
       "      <td>0.975097</td>\n",
       "      <td>1.032317</td>\n",
       "      <td>1.019348</td>\n",
       "      <td>1.004328</td>\n",
       "      <td>0.977968</td>\n",
       "      <td>1.032316</td>\n",
       "      <td>0.987677</td>\n",
       "      <td>1.023747</td>\n",
       "      <td>0.989492</td>\n",
       "    </tr>\n",
       "    <tr>\n",
       "      <th>...</th>\n",
       "      <td>...</td>\n",
       "      <td>...</td>\n",
       "      <td>...</td>\n",
       "      <td>...</td>\n",
       "      <td>...</td>\n",
       "      <td>...</td>\n",
       "      <td>...</td>\n",
       "      <td>...</td>\n",
       "      <td>...</td>\n",
       "      <td>...</td>\n",
       "    </tr>\n",
       "    <tr>\n",
       "      <th>1256</th>\n",
       "      <td>1.297089</td>\n",
       "      <td>1.418044</td>\n",
       "      <td>1.672323</td>\n",
       "      <td>1.419899</td>\n",
       "      <td>1.675011</td>\n",
       "      <td>2.407133</td>\n",
       "      <td>1.244966</td>\n",
       "      <td>0.577739</td>\n",
       "      <td>0.914580</td>\n",
       "      <td>1.057014</td>\n",
       "    </tr>\n",
       "    <tr>\n",
       "      <th>1257</th>\n",
       "      <td>1.311903</td>\n",
       "      <td>1.429215</td>\n",
       "      <td>1.683830</td>\n",
       "      <td>1.405762</td>\n",
       "      <td>1.684159</td>\n",
       "      <td>2.406152</td>\n",
       "      <td>1.236571</td>\n",
       "      <td>0.578727</td>\n",
       "      <td>0.883885</td>\n",
       "      <td>1.049050</td>\n",
       "    </tr>\n",
       "    <tr>\n",
       "      <th>1258</th>\n",
       "      <td>1.324926</td>\n",
       "      <td>1.419420</td>\n",
       "      <td>1.679723</td>\n",
       "      <td>1.405844</td>\n",
       "      <td>1.671178</td>\n",
       "      <td>2.384603</td>\n",
       "      <td>1.222796</td>\n",
       "      <td>0.577393</td>\n",
       "      <td>0.888887</td>\n",
       "      <td>1.039598</td>\n",
       "    </tr>\n",
       "    <tr>\n",
       "      <th>1259</th>\n",
       "      <td>1.315999</td>\n",
       "      <td>1.398808</td>\n",
       "      <td>1.692621</td>\n",
       "      <td>1.433372</td>\n",
       "      <td>1.664782</td>\n",
       "      <td>2.417251</td>\n",
       "      <td>1.207097</td>\n",
       "      <td>0.582141</td>\n",
       "      <td>0.877959</td>\n",
       "      <td>1.020205</td>\n",
       "    </tr>\n",
       "    <tr>\n",
       "      <th>1260</th>\n",
       "      <td>1.305232</td>\n",
       "      <td>1.394995</td>\n",
       "      <td>1.653909</td>\n",
       "      <td>1.414041</td>\n",
       "      <td>1.662692</td>\n",
       "      <td>2.423931</td>\n",
       "      <td>1.209326</td>\n",
       "      <td>0.585930</td>\n",
       "      <td>0.882861</td>\n",
       "      <td>0.999599</td>\n",
       "    </tr>\n",
       "  </tbody>\n",
       "</table>\n",
       "<p>1261 rows × 10 columns</p>\n",
       "</div>"
      ],
      "text/plain": [
       "             0         1         2         3         4         5         6  \\\n",
       "0     1.000000  1.000000  1.000000  1.000000  1.000000  1.000000  1.000000   \n",
       "1     0.993001  1.001861  1.015790  1.017297  1.023858  0.985531  1.008389   \n",
       "2     1.003941  1.003925  1.023958  1.009686  1.013852  1.005077  1.020456   \n",
       "3     1.005201  1.005014  1.017321  1.002698  1.006390  1.001224  1.022998   \n",
       "4     1.009441  0.975097  1.032317  1.019348  1.004328  0.977968  1.032316   \n",
       "...        ...       ...       ...       ...       ...       ...       ...   \n",
       "1256  1.297089  1.418044  1.672323  1.419899  1.675011  2.407133  1.244966   \n",
       "1257  1.311903  1.429215  1.683830  1.405762  1.684159  2.406152  1.236571   \n",
       "1258  1.324926  1.419420  1.679723  1.405844  1.671178  2.384603  1.222796   \n",
       "1259  1.315999  1.398808  1.692621  1.433372  1.664782  2.417251  1.207097   \n",
       "1260  1.305232  1.394995  1.653909  1.414041  1.662692  2.423931  1.209326   \n",
       "\n",
       "             7         8         9  \n",
       "0     1.000000  1.000000  1.000000  \n",
       "1     1.020919  1.008302  1.006853  \n",
       "2     1.008471  1.006738  1.005663  \n",
       "3     0.990444  1.022664  0.989340  \n",
       "4     0.987677  1.023747  0.989492  \n",
       "...        ...       ...       ...  \n",
       "1256  0.577739  0.914580  1.057014  \n",
       "1257  0.578727  0.883885  1.049050  \n",
       "1258  0.577393  0.888887  1.039598  \n",
       "1259  0.582141  0.877959  1.020205  \n",
       "1260  0.585930  0.882861  0.999599  \n",
       "\n",
       "[1261 rows x 10 columns]"
      ]
     },
     "execution_count": 113,
     "metadata": {},
     "output_type": "execute_result"
    }
   ],
   "source": [
    "# Running a Monte Carlo simulation to forecast 5 years cumulative returns\n",
    "MC_5_year.calc_cumulative_return()"
   ]
  },
  {
   "cell_type": "code",
   "execution_count": 114,
   "metadata": {},
   "outputs": [
    {
     "data": {
      "text/plain": [
       "<matplotlib.axes._subplots.AxesSubplot at 0x26f9ac10848>"
      ]
     },
     "execution_count": 114,
     "metadata": {},
     "output_type": "execute_result"
    },
    {
     "data": {
      "image/png": "[encoded data removed]",
      "text/plain": [
       "<Figure size 432x288 with 1 Axes>"
      ]
     },
     "metadata": {
      "needs_background": "light"
     },
     "output_type": "display_data"
    }
   ],
   "source": [
    "# Plot simulation outcomes\n",
    "MC_5_year.plot_simulation()"
   ]
  },
  {
   "cell_type": "code",
   "execution_count": 115,
   "metadata": {},
   "outputs": [
    {
     "data": {
      "text/plain": [
       "<matplotlib.axes._subplots.AxesSubplot at 0x26f99978b88>"
      ]
     },
     "execution_count": 115,
     "metadata": {},
     "output_type": "execute_result"
    },
    {
     "data": {
      "image/png": "[encoded data removed]",
      "text/plain": [
       "<Figure size 432x288 with 1 Axes>"
      ]
     },
     "metadata": {
      "needs_background": "light"
     },
     "output_type": "display_data"
    }
   ],
   "source": [
    "# Plot probability distribution and confidence intervals\n",
    "MC_5_year.plot_distribution()"
   ]
  },
  {
   "cell_type": "code",
   "execution_count": 116,
   "metadata": {},
   "outputs": [
    {
     "name": "stdout",
     "output_type": "stream",
     "text": [
      "count           10.000000\n",
      "mean             1.353252\n",
      "std              0.505094\n",
      "min              0.585930\n",
      "25%              1.052031\n",
      "50%              1.350114\n",
      "75%              1.593942\n",
      "max              2.423931\n",
      "95% CI Lower     0.652740\n",
      "95% CI Upper     2.252652\n",
      "Name: 1260, dtype: float64\n"
     ]
    }
   ],
   "source": [
    "# Fetch summary statistics from the Monte Carlo simulation results\n",
    "tbl = MC_5_year.summarize_cumulative_return()\n",
    "\n",
    "# Print summary statistics\n",
    "print(tbl)"
   ]
  },
  {
   "cell_type": "code",
   "execution_count": 117,
   "metadata": {},
   "outputs": [
    {
     "name": "stdout",
     "output_type": "stream",
     "text": [
      "There is a 95% chance that an initial investment of $20000 in the portfolio over the next 5 years will end within in the range of $13054.8 and $45053.04\n"
     ]
    }
   ],
   "source": [
    "# Set initial investment\n",
    "initial_investment = 20000\n",
    "\n",
    "# Use the lower and upper `95%` confidence intervals to calculate the range of the possible outcomes of our $60,000\n",
    "ci_lower_five = round(tbl[8]*initial_investment,2)\n",
    "ci_upper_five = round(tbl[9]*initial_investment,2)\n",
    "\n",
    "# Print results\n",
    "print(f\"There is a 95% chance that an initial investment of ${initial_investment} in the portfolio\"\n",
    "      f\" over the next 5 years will end within in the range of\"\n",
    "      f\" ${ci_lower_five} and ${ci_upper_five}\")"
   ]
  },
  {
   "cell_type": "markdown",
   "metadata": {},
   "source": [
    "### Ten Years Retirement Option"
   ]
  },
  {
   "cell_type": "code",
   "execution_count": 118,
   "metadata": {},
   "outputs": [],
   "source": [
    "# Configuring a Monte Carlo simulation to forecast 10 years cumulative returns\n",
    "num_sims = 10\n",
    "\n",
    "MC_10_year = MCSimulation(\n",
    "    portfolio_data = df_stock_data,\n",
    "    weights = [.05,.95],\n",
    "    num_simulation = num_sims,\n",
    "    num_trading_days = 252*10\n",
    ")"
   ]
  },
  {
   "cell_type": "code",
   "execution_count": 119,
   "metadata": {},
   "outputs": [
    {
     "name": "stdout",
     "output_type": "stream",
     "text": [
      "Running Monte Carlo simulation number 0.\n"
     ]
    },
    {
     "data": {
      "text/html": [
       "<div>\n",
       "<style scoped>\n",
       "    .dataframe tbody tr th:only-of-type {\n",
       "        vertical-align: middle;\n",
       "    }\n",
       "\n",
       "    .dataframe tbody tr th {\n",
       "        vertical-align: top;\n",
       "    }\n",
       "\n",
       "    .dataframe thead th {\n",
       "        text-align: right;\n",
       "    }\n",
       "</style>\n",
       "<table border=\"1\" class=\"dataframe\">\n",
       "  <thead>\n",
       "    <tr style=\"text-align: right;\">\n",
       "      <th></th>\n",
       "      <th>0</th>\n",
       "      <th>1</th>\n",
       "      <th>2</th>\n",
       "      <th>3</th>\n",
       "      <th>4</th>\n",
       "      <th>5</th>\n",
       "      <th>6</th>\n",
       "      <th>7</th>\n",
       "      <th>8</th>\n",
       "      <th>9</th>\n",
       "    </tr>\n",
       "  </thead>\n",
       "  <tbody>\n",
       "    <tr>\n",
       "      <th>0</th>\n",
       "      <td>1.000000</td>\n",
       "      <td>1.000000</td>\n",
       "      <td>1.000000</td>\n",
       "      <td>1.000000</td>\n",
       "      <td>1.000000</td>\n",
       "      <td>1.000000</td>\n",
       "      <td>1.000000</td>\n",
       "      <td>1.000000</td>\n",
       "      <td>1.000000</td>\n",
       "      <td>1.000000</td>\n",
       "    </tr>\n",
       "    <tr>\n",
       "      <th>1</th>\n",
       "      <td>0.994431</td>\n",
       "      <td>1.011631</td>\n",
       "      <td>0.998794</td>\n",
       "      <td>0.985507</td>\n",
       "      <td>1.001828</td>\n",
       "      <td>1.014425</td>\n",
       "      <td>1.005236</td>\n",
       "      <td>1.006022</td>\n",
       "      <td>0.992458</td>\n",
       "      <td>1.008214</td>\n",
       "    </tr>\n",
       "    <tr>\n",
       "      <th>2</th>\n",
       "      <td>0.989294</td>\n",
       "      <td>0.998790</td>\n",
       "      <td>0.999108</td>\n",
       "      <td>0.994985</td>\n",
       "      <td>1.013138</td>\n",
       "      <td>1.021180</td>\n",
       "      <td>1.042597</td>\n",
       "      <td>0.989865</td>\n",
       "      <td>1.002139</td>\n",
       "      <td>0.991683</td>\n",
       "    </tr>\n",
       "    <tr>\n",
       "      <th>3</th>\n",
       "      <td>0.988736</td>\n",
       "      <td>0.986431</td>\n",
       "      <td>0.999389</td>\n",
       "      <td>0.973835</td>\n",
       "      <td>0.978789</td>\n",
       "      <td>1.020382</td>\n",
       "      <td>1.057854</td>\n",
       "      <td>0.994573</td>\n",
       "      <td>1.024192</td>\n",
       "      <td>0.975909</td>\n",
       "    </tr>\n",
       "    <tr>\n",
       "      <th>4</th>\n",
       "      <td>0.994614</td>\n",
       "      <td>0.973555</td>\n",
       "      <td>1.012976</td>\n",
       "      <td>0.985760</td>\n",
       "      <td>0.989004</td>\n",
       "      <td>1.010282</td>\n",
       "      <td>1.054861</td>\n",
       "      <td>1.003676</td>\n",
       "      <td>1.026836</td>\n",
       "      <td>0.972712</td>\n",
       "    </tr>\n",
       "    <tr>\n",
       "      <th>...</th>\n",
       "      <td>...</td>\n",
       "      <td>...</td>\n",
       "      <td>...</td>\n",
       "      <td>...</td>\n",
       "      <td>...</td>\n",
       "      <td>...</td>\n",
       "      <td>...</td>\n",
       "      <td>...</td>\n",
       "      <td>...</td>\n",
       "      <td>...</td>\n",
       "    </tr>\n",
       "    <tr>\n",
       "      <th>2516</th>\n",
       "      <td>2.060757</td>\n",
       "      <td>2.070130</td>\n",
       "      <td>7.318688</td>\n",
       "      <td>1.996030</td>\n",
       "      <td>5.277186</td>\n",
       "      <td>3.457980</td>\n",
       "      <td>1.910474</td>\n",
       "      <td>3.674197</td>\n",
       "      <td>7.067586</td>\n",
       "      <td>5.349964</td>\n",
       "    </tr>\n",
       "    <tr>\n",
       "      <th>2517</th>\n",
       "      <td>2.057831</td>\n",
       "      <td>2.088084</td>\n",
       "      <td>7.283336</td>\n",
       "      <td>1.993202</td>\n",
       "      <td>5.263152</td>\n",
       "      <td>3.434507</td>\n",
       "      <td>1.878877</td>\n",
       "      <td>3.736464</td>\n",
       "      <td>7.120900</td>\n",
       "      <td>5.341209</td>\n",
       "    </tr>\n",
       "    <tr>\n",
       "      <th>2518</th>\n",
       "      <td>2.044099</td>\n",
       "      <td>2.073610</td>\n",
       "      <td>7.350188</td>\n",
       "      <td>1.997297</td>\n",
       "      <td>5.241888</td>\n",
       "      <td>3.427786</td>\n",
       "      <td>1.887256</td>\n",
       "      <td>3.833841</td>\n",
       "      <td>7.193564</td>\n",
       "      <td>5.331860</td>\n",
       "    </tr>\n",
       "    <tr>\n",
       "      <th>2519</th>\n",
       "      <td>2.038525</td>\n",
       "      <td>2.049513</td>\n",
       "      <td>7.257377</td>\n",
       "      <td>2.041130</td>\n",
       "      <td>5.238576</td>\n",
       "      <td>3.422892</td>\n",
       "      <td>1.841537</td>\n",
       "      <td>3.814962</td>\n",
       "      <td>7.020588</td>\n",
       "      <td>5.263453</td>\n",
       "    </tr>\n",
       "    <tr>\n",
       "      <th>2520</th>\n",
       "      <td>2.057551</td>\n",
       "      <td>2.040918</td>\n",
       "      <td>7.126213</td>\n",
       "      <td>2.053153</td>\n",
       "      <td>5.247453</td>\n",
       "      <td>3.325805</td>\n",
       "      <td>1.852998</td>\n",
       "      <td>3.813912</td>\n",
       "      <td>6.974697</td>\n",
       "      <td>5.351117</td>\n",
       "    </tr>\n",
       "  </tbody>\n",
       "</table>\n",
       "<p>2521 rows × 10 columns</p>\n",
       "</div>"
      ],
      "text/plain": [
       "             0         1         2         3         4         5         6  \\\n",
       "0     1.000000  1.000000  1.000000  1.000000  1.000000  1.000000  1.000000   \n",
       "1     0.994431  1.011631  0.998794  0.985507  1.001828  1.014425  1.005236   \n",
       "2     0.989294  0.998790  0.999108  0.994985  1.013138  1.021180  1.042597   \n",
       "3     0.988736  0.986431  0.999389  0.973835  0.978789  1.020382  1.057854   \n",
       "4     0.994614  0.973555  1.012976  0.985760  0.989004  1.010282  1.054861   \n",
       "...        ...       ...       ...       ...       ...       ...       ...   \n",
       "2516  2.060757  2.070130  7.318688  1.996030  5.277186  3.457980  1.910474   \n",
       "2517  2.057831  2.088084  7.283336  1.993202  5.263152  3.434507  1.878877   \n",
       "2518  2.044099  2.073610  7.350188  1.997297  5.241888  3.427786  1.887256   \n",
       "2519  2.038525  2.049513  7.257377  2.041130  5.238576  3.422892  1.841537   \n",
       "2520  2.057551  2.040918  7.126213  2.053153  5.247453  3.325805  1.852998   \n",
       "\n",
       "             7         8         9  \n",
       "0     1.000000  1.000000  1.000000  \n",
       "1     1.006022  0.992458  1.008214  \n",
       "2     0.989865  1.002139  0.991683  \n",
       "3     0.994573  1.024192  0.975909  \n",
       "4     1.003676  1.026836  0.972712  \n",
       "...        ...       ...       ...  \n",
       "2516  3.674197  7.067586  5.349964  \n",
       "2517  3.736464  7.120900  5.341209  \n",
       "2518  3.833841  7.193564  5.331860  \n",
       "2519  3.814962  7.020588  5.263453  \n",
       "2520  3.813912  6.974697  5.351117  \n",
       "\n",
       "[2521 rows x 10 columns]"
      ]
     },
     "execution_count": 119,
     "metadata": {},
     "output_type": "execute_result"
    }
   ],
   "source": [
    "# Running a Monte Carlo simulation to forecast 10 years cumulative returns\n",
    "MC_10_year.calc_cumulative_return()"
   ]
  },
  {
   "cell_type": "code",
   "execution_count": 120,
   "metadata": {},
   "outputs": [
    {
     "data": {
      "text/plain": [
       "<matplotlib.axes._subplots.AxesSubplot at 0x26f9ad9a348>"
      ]
     },
     "execution_count": 120,
     "metadata": {},
     "output_type": "execute_result"
    },
    {
     "data": {
      "image/png": "[encoded data removed]",
      "text/plain": [
       "<Figure size 432x288 with 1 Axes>"
      ]
     },
     "metadata": {
      "needs_background": "light"
     },
     "output_type": "display_data"
    }
   ],
   "source": [
    "# Plot simulation outcomes\n",
    "MC_10_year.plot_simulation()"
   ]
  },
  {
   "cell_type": "code",
   "execution_count": 121,
   "metadata": {},
   "outputs": [
    {
     "data": {
      "text/plain": [
       "<matplotlib.axes._subplots.AxesSubplot at 0x26f99980ec8>"
      ]
     },
     "execution_count": 121,
     "metadata": {},
     "output_type": "execute_result"
    },
    {
     "data": {
      "image/png": "[encoded data removed]",
      "text/plain": [
       "<Figure size 432x288 with 1 Axes>"
      ]
     },
     "metadata": {
      "needs_background": "light"
     },
     "output_type": "display_data"
    }
   ],
   "source": [
    "# Plot probability distribution and confidence intervals\n",
    "MC_10_year.plot_distribution()"
   ]
  },
  {
   "cell_type": "code",
   "execution_count": 122,
   "metadata": {},
   "outputs": [
    {
     "name": "stdout",
     "output_type": "stream",
     "text": [
      "count           10.000000\n",
      "mean             3.984382\n",
      "std              2.068315\n",
      "min              1.852998\n",
      "25%              2.054252\n",
      "50%              3.569858\n",
      "75%              5.325201\n",
      "max              7.126213\n",
      "95% CI Lower     1.895280\n",
      "95% CI Upper     7.092122\n",
      "Name: 2520, dtype: float64\n"
     ]
    }
   ],
   "source": [
    "# Fetch summary statistics from the Monte Carlo simulation results\n",
    "tbl = MC_10_year.summarize_cumulative_return()\n",
    "\n",
    "# Print summary statistics\n",
    "print(tbl)"
   ]
  },
  {
   "cell_type": "code",
   "execution_count": 123,
   "metadata": {},
   "outputs": [
    {
     "name": "stdout",
     "output_type": "stream",
     "text": [
      "There is a 95% chance that an initial investment of $20000 in the portfolio over the next 10 years will end within in the range of $37905.6 and $141842.44\n"
     ]
    }
   ],
   "source": [
    "# Set initial investment\n",
    "initial_investment = 20000\n",
    "\n",
    "# Use the lower and upper `95%` confidence intervals to calculate the range of the possible outcomes of our $60,000\n",
    "ci_lower_ten = round(tbl[8]*initial_investment,2)\n",
    "ci_upper_ten = round(tbl[9]*initial_investment,2)\n",
    "\n",
    "# Print results\n",
    "print(f\"There is a 95% chance that an initial investment of ${initial_investment} in the portfolio\"\n",
    "      f\" over the next 10 years will end within in the range of\"\n",
    "      f\" ${ci_lower_ten} and ${ci_upper_ten}\")"
   ]
  },
  {
   "cell_type": "code",
   "execution_count": null,
   "metadata": {},
   "outputs": [],
   "source": []
  }
 ],
 "metadata": {
  "kernelspec": {
   "display_name": "Python 3",
   "language": "python",
   "name": "python3"
  },
  "language_info": {
   "codemirror_mode": {
    "name": "ipython",
    "version": 3
   },
   "file_extension": ".py",
   "mimetype": "text/x-python",
   "name": "python",
   "nbconvert_exporter": "python",
   "pygments_lexer": "ipython3",
   "version": "3.7.7"
  }
 },
 "nbformat": 4,
 "nbformat_minor": 4
}
